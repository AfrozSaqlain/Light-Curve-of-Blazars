{
 "cells": [
  {
   "cell_type": "code",
   "execution_count": 1,
   "metadata": {},
   "outputs": [],
   "source": [
    "import os\n",
    "import time\n",
    "import logging\n",
    "from selenium import webdriver # type: ignore\n",
    "from selenium.webdriver.common.by import By # type: ignore\n",
    "from selenium.webdriver.support.ui import WebDriverWait # type: ignore\n",
    "from selenium.webdriver.support import expected_conditions as EC # type: ignore\n",
    "from selenium.webdriver.chrome.service import Service\n",
    "from selenium.webdriver.chrome.options import Options"
   ]
  },
  {
   "cell_type": "code",
   "execution_count": 2,
   "metadata": {},
   "outputs": [],
   "source": [
    "# Path to your Chrome WebDriver\n",
    "CHROME_DRIVER_PATH = \"/home/qubit/Downloads/chrome/chromedriver-linux64/chromedriver\"\n",
    "\n",
    "# URL of the repository\n",
    "BASE_URL = \"https://fermi.gsfc.nasa.gov/ssc/data/access/lat/LightCurveRepository/\""
   ]
  },
  {
   "cell_type": "code",
   "execution_count": 7,
   "metadata": {},
   "outputs": [],
   "source": [
    "# Setup Selenium WebDriver\n",
    "options = webdriver.ChromeOptions()\n",
    "options.add_argument(\"--headless\")  # Run in background\n",
    "\n",
    "# Create a Service object with the ChromeDriver path\n",
    "service = Service(CHROME_DRIVER_PATH)\n",
    "\n",
    "# Initialize Chrome WebDriver with the service object\n",
    "driver = webdriver.Chrome(service=service)\n",
    "\n",
    "driver.get(\"https://www.google.com\")\n",
    "wait = WebDriverWait(driver, 10)\n",
    "\n",
    "# Step 2: Find all Source ID links\n",
    "source_links = driver.find_elements(By.XPATH, \"//table//a\")  # Adjust XPath based on table structure\n",
    "source_urls = [link.get_attribute(\"href\") for link in source_links]\n",
    "\n",
    "# Step 3: Loop through each Source ID page\n",
    "for url in source_urls:\n",
    "    driver.get(url)\n",
    "    time.sleep(5)  # Wait for page to load\n",
    "\n",
    "    # Step 4: Click the \"three lines\" menu (top right)\n",
    "    try:\n",
    "        menu_button = wait.until(EC.element_to_be_clickable((By.XPATH, \"//div[contains(@class, 'menu-class')]\")))\n",
    "        menu_button.click()\n",
    "        time.sleep(2)\n",
    "\n",
    "        # Step 5: Click \"Download CSV\"\n",
    "        download_button = wait.until(EC.element_to_be_clickable((By.XPATH, \"//a[contains(text(), 'Download CSV')]\")))\n",
    "        download_button.click()\n",
    "\n",
    "        print(f\"CSV downloaded from: {url}\")\n",
    "\n",
    "    except Exception as e:\n",
    "        print(f\"Failed for {url}: {e}\")\n",
    "\n",
    "# Close browser\n",
    "driver.quit()\n"
   ]
  },
  {
   "cell_type": "code",
   "execution_count": 10,
   "metadata": {},
   "outputs": [
    {
     "name": "stdout",
     "output_type": "stream",
     "text": [
      "[]\n"
     ]
    }
   ],
   "source": [
    "\n",
    "# ===== Setup Logging =====\n",
    "logging.basicConfig(filename=\"download_log.txt\", level=logging.INFO, format=\"%(asctime)s - %(message)s\")\n",
    "\n",
    "# ===== Set Download Folder =====\n",
    "DOWNLOAD_FOLDER = os.path.join(os.getcwd(), \"csv_downloads\")\n",
    "os.makedirs(DOWNLOAD_FOLDER, exist_ok=True)\n",
    "\n",
    "# ===== Selenium WebDriver Setup =====\n",
    "chrome_options = Options()\n",
    "\n",
    "# Enable automatic downloads to the specified folder\n",
    "chrome_prefs = {\n",
    "    \"download.default_directory\": DOWNLOAD_FOLDER, \n",
    "    \"download.prompt_for_download\": False,\n",
    "    \"download.directory_upgrade\": True,\n",
    "    \"safebrowsing.enabled\": True\n",
    "}\n",
    "chrome_options.add_experimental_option(\"prefs\", chrome_prefs)\n",
    "chrome_options.add_argument(\"--headless\")  # Run in background\n",
    "\n",
    "# Initialize WebDriver\n",
    "service = Service(CHROME_DRIVER_PATH)\n",
    "driver = webdriver.Chrome(service=service, options=chrome_options)\n",
    "wait = WebDriverWait(driver, 10)\n",
    "\n",
    "# ===== Step 1: Open Main Light Curve Repository Page =====\n",
    "BASE_URL = \"https://fermi.gsfc.nasa.gov/ssc/data/access/lat/LightCurveRepository/\"\n",
    "driver.get(BASE_URL)\n",
    "\n",
    "# ===== Step 2: Get Source ID Links =====\n",
    "source_links = driver.find_elements(By.XPATH, \"//td[@class='Source_Name']/a\") # Adjust XPath based on the actual table structure\n",
    "# source_links = driver.find_elements(By.XPATH, \"//td[@class='Source_Name']/a\") # Adjust XPath based on the actual table structure\n",
    "source_urls = [link.get_attribute(\"href\") for link in source_links]\n",
    "\n",
    "logging.info(f\"Found {len(source_urls)} source IDs.\")\n",
    "print(source_links)\n",
    "\n",
    "# ===== Step 3: Loop Through Each Source ID Page =====\n",
    "for url in source_urls:\n",
    "    driver.get(url)\n",
    "    time.sleep(5)  # Wait for page to load\n",
    "\n",
    "    try:\n",
    "        # Step 4: Click the \"three lines\" menu\n",
    "        menu_button = wait.until(EC.element_to_be_clickable((By.XPATH, \"//div[contains(@class, 'menu-class')]\")))\n",
    "        menu_button.click()\n",
    "        time.sleep(2)\n",
    "\n",
    "        # Step 5: Click \"Download CSV\"\n",
    "        download_button = wait.until(EC.element_to_be_clickable((By.XPATH, \"//a[contains(text(), 'Download CSV')]\")))\n",
    "        download_button.click()\n",
    "\n",
    "        logging.info(f\"CSV downloaded successfully from: {url}\")\n",
    "\n",
    "    except Exception as e:\n",
    "        logging.error(f\"Failed to download CSV from {url}: {e}\")\n",
    "\n",
    "# ===== Cleanup =====\n",
    "driver.quit()\n",
    "logging.info(\"Download process completed.\")"
   ]
  },
  {
   "cell_type": "code",
   "execution_count": null,
   "metadata": {},
   "outputs": [],
   "source": []
  }
 ],
 "metadata": {
  "kernelspec": {
   "display_name": "base",
   "language": "python",
   "name": "python3"
  },
  "language_info": {
   "codemirror_mode": {
    "name": "ipython",
    "version": 3
   },
   "file_extension": ".py",
   "mimetype": "text/x-python",
   "name": "python",
   "nbconvert_exporter": "python",
   "pygments_lexer": "ipython3",
   "version": "3.12.2"
  }
 },
 "nbformat": 4,
 "nbformat_minor": 2
}
